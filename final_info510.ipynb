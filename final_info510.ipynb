{
  "nbformat": 4,
  "nbformat_minor": 0,
  "metadata": {
    "kernelspec": {
      "display_name": "Python 3",
      "language": "python",
      "name": "python3"
    },
    "language_info": {
      "codemirror_mode": {
        "name": "ipython",
        "version": 3
      },
      "file_extension": ".py",
      "mimetype": "text/x-python",
      "name": "python",
      "nbconvert_exporter": "python",
      "pygments_lexer": "ipython3",
      "version": "3.8.6"
    },
    "colab": {
      "name": "final-info510",
      "provenance": [],
      "include_colab_link": true
    }
  },
  "cells": [
    {
      "cell_type": "markdown",
      "metadata": {
        "id": "view-in-github",
        "colab_type": "text"
      },
      "source": [
        "<a href=\"https://colab.research.google.com/github/lwerth/INFO510-public/blob/master/final_info510.ipynb\" target=\"_parent\"><img src=\"https://colab.research.google.com/assets/colab-badge.svg\" alt=\"Open In Colab\"/></a>"
      ]
    },
    {
      "cell_type": "markdown",
      "metadata": {
        "id": "9NGvmb8ZW9MY"
      },
      "source": [
        "1. (Probability calculation.)\n",
        "Let’s warm up with a probability calculation. The data set spread7.csv contains data from professional\n",
        "(American) football games. The outcome is the difference between the favorite and underdog teams’\n",
        "scores (diff in the CSV file). All of the games in this set were given a point spread of 7 points – that\n",
        "is, the favorite team is expected to win by 7 points.\n",
        "\n",
        "We’ll consider three conditional probabilities:\n",
        "\n",
        "P(favorite wins|spread = 7)\n",
        "\n",
        "P(favorite wins by at least 7|spread = 7)\n",
        "\n",
        "P(favorite wins by at least 7|spread = 7 and favorite wins)\n"
      ]
    },
    {
      "cell_type": "markdown",
      "metadata": {
        "id": "Kpf25UAAW9Mf"
      },
      "source": [
        "(a) Predict each of these probabilities by assuming that the quantity (outcome - point spread) is normally distributed with mean 0 and standard deviation 14.\r\n",
        "\r\n",
        "> P(favorite wins|spread = 7) --> Posterior Mean = 41.74796342891308, Posterior SD = 0.13631478882863007\r\n",
        "\r\n",
        "> P(favorite wins by at least 7|spread = 7) --> Posterior Mean = 17.536076215635294, Posterior SD = 0.013996165575876367\r\n",
        "\r\n",
        "> P(favorite wins by at least 7|spread = 7 and favorite wins) --> Posterior Mean = 17.47260549235707, Posterior SD = 0.13936228694193722\r\n",
        "\r\n",
        "\r\n"
      ]
    },
    {
      "cell_type": "code",
      "metadata": {
        "id": "FNIwdaSxW9Mg"
      },
      "source": [
        "#@title\n",
        "import pandas as pd, numpy as np, scipy as sp\n",
        "import matplotlib.pyplot as plt\n",
        "from scipy import stats\n",
        "from scipy.stats import norm\n",
        "import seaborn as sns"
      ],
      "execution_count": 3,
      "outputs": []
    },
    {
      "cell_type": "code",
      "metadata": {
        "cellView": "form",
        "id": "eqaQINRLTXky"
      },
      "source": [
        "#@title\n",
        "import pymc3"
      ],
      "execution_count": 1,
      "outputs": []
    },
    {
      "cell_type": "code",
      "metadata": {
        "colab": {
          "base_uri": "https://localhost:8080/"
        },
        "id": "YcST57FUXWx7",
        "cellView": "form",
        "outputId": "0a62a640-4aba-404f-efb7-34080992c0c9"
      },
      "source": [
        "#@title\n",
        "from google.colab import drive\n",
        "drive.mount('/content/drive')"
      ],
      "execution_count": null,
      "outputs": [
        {
          "output_type": "stream",
          "text": [
            "Mounted at /content/drive\n"
          ],
          "name": "stdout"
        }
      ]
    },
    {
      "cell_type": "code",
      "metadata": {
        "colab": {
          "base_uri": "https://localhost:8080/",
          "height": 419
        },
        "id": "Zzk9tAwBXdIQ",
        "outputId": "8e326f8f-4500-44f4-b764-fb8a22e6d288"
      },
      "source": [
        "#@title\n",
        "# spread = pd.read_csv('My Drive/Fall2020/info510/Final/spread7.csv')\n",
        "spread = pd.read_csv(r'spread7.csv')\n",
        "spread"
      ],
      "execution_count": 82,
      "outputs": [
        {
          "output_type": "execute_result",
          "data": {
            "text/html": [
              "<div>\n",
              "<style scoped>\n",
              "    .dataframe tbody tr th:only-of-type {\n",
              "        vertical-align: middle;\n",
              "    }\n",
              "\n",
              "    .dataframe tbody tr th {\n",
              "        vertical-align: top;\n",
              "    }\n",
              "\n",
              "    .dataframe thead th {\n",
              "        text-align: right;\n",
              "    }\n",
              "</style>\n",
              "<table border=\"1\" class=\"dataframe\">\n",
              "  <thead>\n",
              "    <tr style=\"text-align: right;\">\n",
              "      <th></th>\n",
              "      <th>Unnamed: 0</th>\n",
              "      <th>home</th>\n",
              "      <th>favorite</th>\n",
              "      <th>underdog</th>\n",
              "      <th>spread</th>\n",
              "      <th>favorite_name</th>\n",
              "      <th>underdog_name</th>\n",
              "      <th>week</th>\n",
              "      <th>diff</th>\n",
              "    </tr>\n",
              "  </thead>\n",
              "  <tbody>\n",
              "    <tr>\n",
              "      <th>0</th>\n",
              "      <td>21</td>\n",
              "      <td>0</td>\n",
              "      <td>17</td>\n",
              "      <td>23</td>\n",
              "      <td>7.0</td>\n",
              "      <td>LAN</td>\n",
              "      <td>NO</td>\n",
              "      <td>2</td>\n",
              "      <td>-6</td>\n",
              "    </tr>\n",
              "    <tr>\n",
              "      <th>1</th>\n",
              "      <td>24</td>\n",
              "      <td>1</td>\n",
              "      <td>28</td>\n",
              "      <td>23</td>\n",
              "      <td>7.0</td>\n",
              "      <td>SD</td>\n",
              "      <td>DET</td>\n",
              "      <td>2</td>\n",
              "      <td>5</td>\n",
              "    </tr>\n",
              "    <tr>\n",
              "      <th>2</th>\n",
              "      <td>35</td>\n",
              "      <td>1</td>\n",
              "      <td>35</td>\n",
              "      <td>23</td>\n",
              "      <td>7.0</td>\n",
              "      <td>LAN</td>\n",
              "      <td>GB</td>\n",
              "      <td>3</td>\n",
              "      <td>12</td>\n",
              "    </tr>\n",
              "    <tr>\n",
              "      <th>3</th>\n",
              "      <td>37</td>\n",
              "      <td>1</td>\n",
              "      <td>20</td>\n",
              "      <td>10</td>\n",
              "      <td>7.0</td>\n",
              "      <td>LAA</td>\n",
              "      <td>SEA</td>\n",
              "      <td>3</td>\n",
              "      <td>10</td>\n",
              "    </tr>\n",
              "    <tr>\n",
              "      <th>4</th>\n",
              "      <td>56</td>\n",
              "      <td>1</td>\n",
              "      <td>23</td>\n",
              "      <td>17</td>\n",
              "      <td>7.0</td>\n",
              "      <td>BUF</td>\n",
              "      <td>IND</td>\n",
              "      <td>5</td>\n",
              "      <td>6</td>\n",
              "    </tr>\n",
              "    <tr>\n",
              "      <th>...</th>\n",
              "      <td>...</td>\n",
              "      <td>...</td>\n",
              "      <td>...</td>\n",
              "      <td>...</td>\n",
              "      <td>...</td>\n",
              "      <td>...</td>\n",
              "      <td>...</td>\n",
              "      <td>...</td>\n",
              "      <td>...</td>\n",
              "    </tr>\n",
              "    <tr>\n",
              "      <th>132</th>\n",
              "      <td>2148</td>\n",
              "      <td>1</td>\n",
              "      <td>34</td>\n",
              "      <td>37</td>\n",
              "      <td>7.0</td>\n",
              "      <td>IND</td>\n",
              "      <td>NE</td>\n",
              "      <td>11</td>\n",
              "      <td>-3</td>\n",
              "    </tr>\n",
              "    <tr>\n",
              "      <th>133</th>\n",
              "      <td>2175</td>\n",
              "      <td>0</td>\n",
              "      <td>21</td>\n",
              "      <td>9</td>\n",
              "      <td>7.0</td>\n",
              "      <td>PIT</td>\n",
              "      <td>CIN</td>\n",
              "      <td>13</td>\n",
              "      <td>12</td>\n",
              "    </tr>\n",
              "    <tr>\n",
              "      <th>134</th>\n",
              "      <td>2210</td>\n",
              "      <td>1</td>\n",
              "      <td>14</td>\n",
              "      <td>16</td>\n",
              "      <td>7.0</td>\n",
              "      <td>HOU</td>\n",
              "      <td>GB</td>\n",
              "      <td>15</td>\n",
              "      <td>-2</td>\n",
              "    </tr>\n",
              "    <tr>\n",
              "      <th>135</th>\n",
              "      <td>2225</td>\n",
              "      <td>0</td>\n",
              "      <td>41</td>\n",
              "      <td>17</td>\n",
              "      <td>7.0</td>\n",
              "      <td>DAL</td>\n",
              "      <td>ATL</td>\n",
              "      <td>16</td>\n",
              "      <td>24</td>\n",
              "    </tr>\n",
              "    <tr>\n",
              "      <th>136</th>\n",
              "      <td>2231</td>\n",
              "      <td>1</td>\n",
              "      <td>42</td>\n",
              "      <td>20</td>\n",
              "      <td>7.0</td>\n",
              "      <td>KC</td>\n",
              "      <td>DEN</td>\n",
              "      <td>17</td>\n",
              "      <td>22</td>\n",
              "    </tr>\n",
              "  </tbody>\n",
              "</table>\n",
              "<p>137 rows × 9 columns</p>\n",
              "</div>"
            ],
            "text/plain": [
              "     Unnamed: 0  home  favorite  ...  underdog_name  week diff\n",
              "0            21     0        17  ...             NO     2   -6\n",
              "1            24     1        28  ...            DET     2    5\n",
              "2            35     1        35  ...             GB     3   12\n",
              "3            37     1        20  ...            SEA     3   10\n",
              "4            56     1        23  ...            IND     5    6\n",
              "..          ...   ...       ...  ...            ...   ...  ...\n",
              "132        2148     1        34  ...             NE    11   -3\n",
              "133        2175     0        21  ...            CIN    13   12\n",
              "134        2210     1        14  ...             GB    15   -2\n",
              "135        2225     0        41  ...            ATL    16   24\n",
              "136        2231     1        42  ...            DEN    17   22\n",
              "\n",
              "[137 rows x 9 columns]"
            ]
          },
          "metadata": {
            "tags": []
          },
          "execution_count": 82
        }
      ]
    },
    {
      "cell_type": "code",
      "metadata": {
        "id": "Ti6qV-w5zoJ-"
      },
      "source": [
        "scores = spread.drop(['Unnamed: 0', 'home', 'spread', 'favorite_name', 'underdog_name', 'week'], axis=1)\r\n",
        "# scores.head()\r\n",
        "\r\n",
        "fav_wins = np.array(scores['diff'].tolist())\r\n",
        "# print(fav_wins)\r\n"
      ],
      "execution_count": null,
      "outputs": []
    },
    {
      "cell_type": "code",
      "metadata": {
        "colab": {
          "base_uri": "https://localhost:8080/"
        },
        "id": "O6h1RzhCzrhI",
        "outputId": "aa19de7e-c85d-4ae6-b544-3a26a241c2c4"
      },
      "source": [
        "wins = np.where(fav_wins > 0, 1, 0)\r\n",
        "\r\n",
        "spread['favorite_win'] = wins\r\n",
        "# print(spread.head())\r\n",
        "# wins.mean()\r\n",
        "\r\n",
        "# wins\r\n",
        "#would we want to get the total number of points per game won and use that as an average for the prior mean?\r\n",
        "#or should we leave it as is below?\r\n",
        "#ask Dr Murphy?"
      ],
      "execution_count": 113,
      "outputs": [
        {
          "output_type": "execute_result",
          "data": {
            "text/plain": [
              "0.7737226277372263"
            ]
          },
          "metadata": {
            "tags": []
          },
          "execution_count": 113
        }
      ]
    },
    {
      "cell_type": "code",
      "metadata": {
        "colab": {
          "base_uri": "https://localhost:8080/"
        },
        "id": "Gng_R_MsPDj4",
        "outputId": "49c37daf-9c25-425c-bc38-19b8182ef349"
      },
      "source": [
        "# P(favorite wins|spread = 7) --> (Posterior Mean = 41.74796342891308, Posterior SD = 0.13631478882863007)\r\n",
        "\r\n",
        "\r\n",
        "# get prior mean\r\n",
        "fav = spread.favorite\r\n",
        "under = spread.underdog\r\n",
        "# total = fav + under\r\n",
        "\r\n",
        "total = [sum(i) for i in zip(fav, under)]\r\n",
        "total_sum = sum(total)\r\n",
        "avg = total_sum/len(total)\r\n",
        "avg"
      ],
      "execution_count": 162,
      "outputs": [
        {
          "output_type": "execute_result",
          "data": {
            "text/plain": [
              "43.481751824817515"
            ]
          },
          "metadata": {
            "tags": []
          },
          "execution_count": 162
        }
      ]
    },
    {
      "cell_type": "code",
      "metadata": {
        "id": "PBCUbU2Ik9rT"
      },
      "source": [
        "#calculate the known variance (using basketball notebook example)\n",
        "sigma = 7\n",
        "prior_mean = avg\n",
        "prior_sd = .14\n",
        "\n",
        "mean_draws = sp.stats.norm.rvs(prior_mean, prior_sd, 10000) # generates values of theta\n",
        "prior_predictions1 = pd.Series([sp.stats.norm.rvs(theta, sigma) for theta in mean_draws]) # use the thetas to generate scores"
      ],
      "execution_count": 172,
      "outputs": []
    },
    {
      "cell_type": "code",
      "metadata": {
        "colab": {
          "base_uri": "https://localhost:8080/"
        },
        "id": "Ba-hz1ZAlfnu",
        "outputId": "991cac44-178b-407f-f742-b4075144a5f6"
      },
      "source": [
        "#look at the minimum score possible in a game\n",
        "\n",
        "min(prior_predictions1)"
      ],
      "execution_count": 173,
      "outputs": [
        {
          "output_type": "execute_result",
          "data": {
            "text/plain": [
              "17.593646450797326"
            ]
          },
          "metadata": {
            "tags": []
          },
          "execution_count": 173
        }
      ]
    },
    {
      "cell_type": "code",
      "metadata": {
        "id": "54Wf53eboOPR"
      },
      "source": [
        "# create posterior calc\n",
        "\n",
        "def posterior_params1(data, prior_mean, prior_sd, sigma):\n",
        "    xbar = data['diff'].mean()\n",
        "    prior_prec = 1 / prior_sd ** 2\n",
        "    data_prec = len(data) / sigma ** 2\n",
        "    post_mean = (prior_mean * prior_prec + xbar * data_prec) / (prior_prec + data_prec)\n",
        "    post_sd = np.sqrt(1/(prior_prec + data_prec))\n",
        "    return post_mean, post_sd"
      ],
      "execution_count": 175,
      "outputs": []
    },
    {
      "cell_type": "code",
      "metadata": {
        "colab": {
          "base_uri": "https://localhost:8080/"
        },
        "id": "FZmrUTQPo-qx",
        "outputId": "69ad9ef7-f368-4cbe-fd10-b3137fd594cc"
      },
      "source": [
        "# Calculate posterior\n",
        "\n",
        "post_mean, post_sd = posterior_params1(spread, prior_mean, prior_sd, sigma)\n",
        "post_mean, post_sd"
      ],
      "execution_count": 176,
      "outputs": [
        {
          "output_type": "execute_result",
          "data": {
            "text/plain": [
              "(41.74796342891308, 0.13631478882863007)"
            ]
          },
          "metadata": {
            "tags": []
          },
          "execution_count": 176
        }
      ]
    },
    {
      "cell_type": "code",
      "metadata": {
        "id": "EcEJEUFQTtca"
      },
      "source": [
        "#pull mean for posterior to plot\n",
        "mean_draws = sp.stats.norm.rvs(post_mean, post_sd, 1000)\n",
        "post_predictions1 = pd.Series([sp.stats.norm.rvs(theta, sigma) for theta in mean_draws])\n"
      ],
      "execution_count": 177,
      "outputs": []
    },
    {
      "cell_type": "code",
      "metadata": {
        "colab": {
          "base_uri": "https://localhost:8080/",
          "height": 298
        },
        "id": "gll2oD8YprH_",
        "outputId": "2b47c7bf-1faa-4926-f5dd-2e5f718ad234"
      },
      "source": [
        "prior_predictions1.hist(bins = range(0, 100, 5))\n",
        "plt.title(\"Prior Preictions\", color = 'white', )\n",
        "\n",
        "post_predictions1.hist(bins = range(0, 100, 5))\n",
        "plt.title(\"Posterior Preictions in Orange\", color = 'white')"
      ],
      "execution_count": 179,
      "outputs": [
        {
          "output_type": "execute_result",
          "data": {
            "text/plain": [
              "Text(0.5, 1.0, 'Posterior Preictions in Orange')"
            ]
          },
          "metadata": {
            "tags": []
          },
          "execution_count": 179
        },
        {
          "output_type": "display_data",
          "data": {
            "image/png": "[encoded data removed]",
            "text/plain": [
              "<Figure size 432x288 with 1 Axes>"
            ]
          },
          "metadata": {
            "tags": [],
            "needs_background": "light"
          }
        }
      ]
    },
    {
      "cell_type": "code",
      "metadata": {
        "id": "LR-u_Ifsqfya"
      },
      "source": [
        "# post_predictions.hist(bins = range(0, 100, 5))\r\n",
        "# plt.title(\"Posterior Preictions in Orange\", color = 'white')"
      ],
      "execution_count": 180,
      "outputs": []
    },
    {
      "cell_type": "code",
      "metadata": {
        "colab": {
          "base_uri": "https://localhost:8080/"
        },
        "id": "dUpMbavAsMnR",
        "outputId": "f063b260-1866-4337-81da-724ae17b0062"
      },
      "source": [
        "# P(favorite wins by at least 7|spread = 7) --> (Posterior Mean = 17.536076215635294, Posterior SD = 0.013996165575876367)\r\n",
        "\r\n",
        "\r\n",
        "# looking at the average difference across the teams who won by at least 7 --> \r\n",
        "# mean = 10.7\r\n",
        "\r\n",
        "seven_diff = np.where(fav_wins >= 7, fav_wins, 0)\r\n",
        "print(seven_diff)\r\n",
        "print(seven_diff.mean())\r\n",
        "\r\n",
        "spread['seven_diff'] = seven_diff\r\n",
        "print(spread.head())"
      ],
      "execution_count": 148,
      "outputs": [
        {
          "output_type": "stream",
          "text": [
            "[ 0  0 12 10  0  0 18  0  0 14  0 14 27  0 22  0 15 17  0 24 21 18  0  0\n",
            "  7  0  0 30  0 21 10  9  0 14 33  0  0  0  0 13  0  0  0 21 10 13  0 15\n",
            "  0 10 21  0 11 27 20  0 32  0  0 34  0  0 14  0 27  0 31  0  0 17 10 28\n",
            "  0 12  0  0  0  0 14  0 20  0 32 21 17 18  0  0  0  0 31  7  0 35  0 37\n",
            " 37 10  0 17 28  0 20 28  0 30 35 13 14 11  0  0 18  0 28 27  0 32  0 10\n",
            "  7 27  0  0  0 20 10 19  9  8 38  0  0 12  0 24 22]\n",
            "10.861313868613138\n",
            "   Unnamed: 0  home  favorite  underdog  ...  week diff seven_diff  favorite_win\n",
            "0          21     0        17        23  ...     2   -6          0             0\n",
            "1          24     1        28        23  ...     2    5          0             1\n",
            "2          35     1        35        23  ...     3   12         12             1\n",
            "3          37     1        20        10  ...     3   10         10             1\n",
            "4          56     1        23        17  ...     5    6          0             1\n",
            "\n",
            "[5 rows x 11 columns]\n"
          ],
          "name": "stdout"
        }
      ]
    },
    {
      "cell_type": "code",
      "metadata": {
        "colab": {
          "base_uri": "https://localhost:8080/"
        },
        "id": "_aeEx_fv8mPK",
        "outputId": "3991e862-f15b-4666-be0e-d2dc55f4c160"
      },
      "source": [
        "seven_fav = np.where(fav_wins >= 7, spread.favorite, 0)\r\n",
        "spread['favorite_by_7'] = seven_fav\r\n",
        "print(spread.head())"
      ],
      "execution_count": 214,
      "outputs": [
        {
          "output_type": "stream",
          "text": [
            "   Unnamed: 0  home  favorite  ...  diff  favorite_win favorite_by_7\n",
            "0          21     0        17  ...    -6             0             0\n",
            "1          24     1        28  ...     5             1             0\n",
            "2          35     1        35  ...    12             1            35\n",
            "3          37     1        20  ...    10             1            20\n",
            "4          56     1        23  ...     6             1             0\n",
            "\n",
            "[5 rows x 11 columns]\n"
          ],
          "name": "stdout"
        }
      ]
    },
    {
      "cell_type": "code",
      "metadata": {
        "colab": {
          "base_uri": "https://localhost:8080/"
        },
        "id": "ZbACaU9D4U8_",
        "outputId": "15073e1a-ff62-4f37-eba2-0e4285503b21"
      },
      "source": [
        "spread['favorite_by_7'].mean()"
      ],
      "execution_count": 215,
      "outputs": [
        {
          "output_type": "execute_result",
          "data": {
            "text/plain": [
              "17.54014598540146"
            ]
          },
          "metadata": {
            "tags": []
          },
          "execution_count": 215
        }
      ]
    },
    {
      "cell_type": "code",
      "metadata": {
        "id": "TQl0ulRk2xkh"
      },
      "source": [
        "#@title\n",
        "#calculate the known variance (using basketball notebook example)\n",
        "sigma = 7\n",
        "prior_mean2 = spread['favorite_by_7'].mean()\n",
        "prior_sd2 = .14\n",
        "\n",
        "mean_draws2 = sp.stats.norm.rvs(prior_mean2, prior_sd2, 10000) # generates values of theta\n",
        "prior_predictions2 = pd.Series([sp.stats.norm.rvs(theta, sigma) for theta in mean_draws2]) # use the thetas to generate scores"
      ],
      "execution_count": 249,
      "outputs": []
    },
    {
      "cell_type": "code",
      "metadata": {
        "colab": {
          "base_uri": "https://localhost:8080/"
        },
        "id": "8JmcVRyR2xki",
        "outputId": "37ce121f-ff17-4e43-b88d-07912e7469cc"
      },
      "source": [
        "#@title\n",
        "print(min(prior_predictions2))\n",
        "prior_predictions2"
      ],
      "execution_count": 258,
      "outputs": [
        {
          "output_type": "stream",
          "text": [
            "-7.849193341636756\n"
          ],
          "name": "stdout"
        },
        {
          "output_type": "execute_result",
          "data": {
            "text/plain": [
              "0       14.273108\n",
              "1       20.496753\n",
              "2       13.432141\n",
              "3       13.054368\n",
              "4       24.502971\n",
              "          ...    \n",
              "9995    11.756793\n",
              "9996    18.584023\n",
              "9997    21.668692\n",
              "9998     9.804293\n",
              "9999    23.886618\n",
              "Length: 10000, dtype: float64"
            ]
          },
          "metadata": {
            "tags": []
          },
          "execution_count": 258
        }
      ]
    },
    {
      "cell_type": "code",
      "metadata": {
        "id": "C95lPlHB2xki"
      },
      "source": [
        "#@title\n",
        "def posterior_params_7(data, prior_mean, prior_sd, sigma):\n",
        "    xbar = data['diff'].mean()\n",
        "    prior_prec = 1 / prior_sd ** 2\n",
        "    data_prec = len(data) / sigma ** 2\n",
        "    post_mean = (prior_mean * prior_prec + xbar * data_prec) / (prior_prec + data_prec)\n",
        "    post_sd = np.sqrt(1/(prior_prec + data_prec))\n",
        "    return post_mean, post_sd"
      ],
      "execution_count": 251,
      "outputs": []
    },
    {
      "cell_type": "code",
      "metadata": {
        "colab": {
          "base_uri": "https://localhost:8080/"
        },
        "id": "LZbEqEsA2xkk",
        "outputId": "f5863f51-e3cc-4604-aab8-95cc1b151c40"
      },
      "source": [
        "#@title\n",
        "post_mean_7, post_sd_7 = posterior_params_7(spread, prior_mean2, prior_sd, sigma)\n",
        "post_mean_7, post_sd_7"
      ],
      "execution_count": 252,
      "outputs": [
        {
          "output_type": "execute_result",
          "data": {
            "text/plain": [
              "(17.536076215635294, 0.013996165575876367)"
            ]
          },
          "metadata": {
            "tags": []
          },
          "execution_count": 252
        }
      ]
    },
    {
      "cell_type": "code",
      "metadata": {
        "id": "qZuer29z2xkl"
      },
      "source": [
        "#@title\n",
        "mean_draws_7 = sp.stats.norm.rvs(post_mean_7, post_sd_7, 1000)\n",
        "post_predictions_7 = pd.Series([sp.stats.norm.rvs(theta, sigma) for theta in mean_draws_7])\n"
      ],
      "execution_count": 247,
      "outputs": []
    },
    {
      "cell_type": "code",
      "metadata": {
        "colab": {
          "base_uri": "https://localhost:8080/",
          "height": 298
        },
        "id": "1TeHfa0U6o1c",
        "outputId": "b921bb0f-509c-4847-99f3-a67bb1f067da"
      },
      "source": [
        "prior_predictions2.hist(bins = range(-10, 50, 1))\r\n",
        "plt.title(\"Prior Preictions in Blue\", color = 'white')\r\n",
        "\r\n",
        "post_predictions_7.hist(bins = range(-10, 50, 1))\r\n",
        "plt.title(\"Posterior Preictions in Orange\", color = 'white')"
      ],
      "execution_count": 248,
      "outputs": [
        {
          "output_type": "execute_result",
          "data": {
            "text/plain": [
              "Text(0.5, 1.0, 'Posterior Preictions in Orange')"
            ]
          },
          "metadata": {
            "tags": []
          },
          "execution_count": 248
        },
        {
          "output_type": "display_data",
          "data": {
            "image/png": "[encoded data removed]",
            "text/plain": [
              "<Figure size 432x288 with 1 Axes>"
            ]
          },
          "metadata": {
            "tags": [],
            "needs_background": "light"
          }
        }
      ]
    },
    {
      "cell_type": "code",
      "metadata": {
        "id": "UFMHbEnMrylO"
      },
      "source": [
        "# P(favorite wins by at least 7|spread = 7 and favorite wins) --> (Posterior Mean = 17.47260549235707, Posterior SD = 0.13936228694193722)\r\n"
      ],
      "execution_count": null,
      "outputs": []
    },
    {
      "cell_type": "code",
      "metadata": {
        "id": "Dup-VhPBAoXU"
      },
      "source": [
        "#@title\n",
        "#calculate the known variance (using basketball notebook example)\n",
        "sigma_win = 7 + fav_wins.mean()\n",
        "prior_mean3 = spread['favorite_by_7'].mean()\n",
        "prior_sd3 = .14\n",
        "\n",
        "mean_draws3 = sp.stats.norm.rvs(prior_mean3, prior_sd3, 10000) # generates values of theta\n",
        "prior_predictions3 = pd.Series([sp.stats.norm.rvs(theta, sigma_win) for theta in mean_draws3]) # use the thetas to generate scores"
      ],
      "execution_count": 277,
      "outputs": []
    },
    {
      "cell_type": "code",
      "metadata": {
        "colab": {
          "base_uri": "https://localhost:8080/"
        },
        "id": "3xZD26wVAoXV",
        "outputId": "0e1f2ec6-f46c-4473-c4cd-6acade1f6d82"
      },
      "source": [
        "#@title\n",
        "min(prior_predictions3)"
      ],
      "execution_count": 278,
      "outputs": [
        {
          "output_type": "execute_result",
          "data": {
            "text/plain": [
              "-45.447105164304716"
            ]
          },
          "metadata": {
            "tags": []
          },
          "execution_count": 278
        }
      ]
    },
    {
      "cell_type": "code",
      "metadata": {
        "id": "a7tdL4E2AoXW"
      },
      "source": [
        "#@title\n",
        "def posterior_params3(data, prior_mean, prior_sd, sigma):\n",
        "    xbar = data['diff'].mean()\n",
        "    prior_prec = 1 / prior_sd ** 2\n",
        "    data_prec = len(data) / sigma ** 2\n",
        "    post_mean = (prior_mean * prior_prec + xbar * data_prec) / (prior_prec + data_prec)\n",
        "    post_sd = np.sqrt(1/(prior_prec + data_prec))\n",
        "    return post_mean, post_sd"
      ],
      "execution_count": 279,
      "outputs": []
    },
    {
      "cell_type": "code",
      "metadata": {
        "colab": {
          "base_uri": "https://localhost:8080/"
        },
        "id": "t_Zd-RJPAoXW",
        "outputId": "91a93f45-19a0-4819-9ac1-ac4c97867d3d"
      },
      "source": [
        "post_mean3, post_sd3 = posterior_params3(spread, prior_mean3, prior_sd3, sigma_win)\n",
        "post_mean3, post_sd3"
      ],
      "execution_count": 280,
      "outputs": [
        {
          "output_type": "execute_result",
          "data": {
            "text/plain": [
              "(17.47260549235707, 0.13936228694193722)"
            ]
          },
          "metadata": {
            "tags": []
          },
          "execution_count": 280
        }
      ]
    },
    {
      "cell_type": "code",
      "metadata": {
        "id": "2UCQLB0EAoXW"
      },
      "source": [
        "mean_draws3_pos = sp.stats.norm.rvs(post_mean3, post_sd3, 1000)\n",
        "post_predictions_3 = pd.Series([sp.stats.norm.rvs(theta, sigma_win) for theta in mean_draws3_pos])\n"
      ],
      "execution_count": 282,
      "outputs": []
    },
    {
      "cell_type": "code",
      "metadata": {
        "colab": {
          "base_uri": "https://localhost:8080/",
          "height": 298
        },
        "id": "SozUaR8PAoXX",
        "outputId": "30740556-374d-4e3f-a168-e555cc12f662"
      },
      "source": [
        "prior_predictions3.hist(bins = range(-50, 100, 5))\r\n",
        "plt.title(\"Prior Preictions in Blue\", color = 'white')\r\n",
        "\r\n",
        "post_predictions_3.hist(bins = range(-50, 100, 5))\r\n",
        "plt.title(\"Posterior Preictions in Orange\", color = 'white')"
      ],
      "execution_count": 286,
      "outputs": [
        {
          "output_type": "execute_result",
          "data": {
            "text/plain": [
              "Text(0.5, 1.0, 'Posterior Preictions in Orange')"
            ]
          },
          "metadata": {
            "tags": []
          },
          "execution_count": 286
        },
        {
          "output_type": "display_data",
          "data": {
            "image/png": "[encoded data removed]",
            "text/plain": [
              "<Figure size 432x288 with 1 Axes>"
            ]
          },
          "metadata": {
            "tags": [],
            "needs_background": "light"
          }
        }
      ]
    }
  ]
}