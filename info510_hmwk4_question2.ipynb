{
  "nbformat": 4,
  "nbformat_minor": 0,
  "metadata": {
    "colab": {
      "name": "info510-hmwk4-question2.ipynb",
      "provenance": [],
      "mount_file_id": "1O7hGSkgG3ulLfqZWT8yDwr_OvD3Df3jB",
      "authorship_tag": "ABX9TyOftOC4OyBWDob7hMT1LCqI",
      "include_colab_link": true
    },
    "kernelspec": {
      "name": "python3",
      "display_name": "Python 3"
    }
  },
  "cells": [
    {
      "cell_type": "markdown",
      "metadata": {
        "id": "view-in-github",
        "colab_type": "text"
      },
      "source": [
        "<a href=\"https://colab.research.google.com/github/lwerth/INFO510-public/blob/master/info510_hmwk4_question2.ipynb\" target=\"_parent\"><img src=\"https://colab.research.google.com/assets/colab-badge.svg\" alt=\"Open In Colab\"/></a>"
      ]
    },
    {
      "cell_type": "markdown",
      "metadata": {
        "id": "lm2NRsCerbvg"
      },
      "source": [
        "Regression with many explanatory variables: Table 15.2 displays data from a designed experiment for a chemical process. In using these data to illustrate various approaches to selection and estimation of regression coefficients, Marquardt and Snee (1975) assume a quadratic regression form; that is, a linear relation between the expectation of the untransformed outcome, y, and the variables $x_1, x_2, x_3$, their two-way interactions, $x_1x_2, x_1x_3, x_2x_3$, and their squares, $x_2^{1}, x_2^{2}, x_2^{3}$."
      ]
    },
    {
      "cell_type": "markdown",
      "metadata": {
        "id": "r22B1vLL06FW"
      },
      "source": [
        "## 3\n",
        "(a) Fit an ordinary linear regression model (that is, nonhierarchical with a uniform prior distribution on the coefficients), including a constant term and the nine explanatory variables above."
      ]
    },
    {
      "cell_type": "code",
      "metadata": {
        "id": "DMMQjVzYFRCL"
      },
      "source": [
        "# ! pip install pymc3 --upgrade\n",
        "# ! pip install arviz"
      ],
      "execution_count": 3,
      "outputs": []
    },
    {
      "cell_type": "code",
      "metadata": {
        "id": "DzDYjPxl0luP"
      },
      "source": [
        "import numpy as np, scipy as sp, pymc3 as pm, matplotlib.pyplot as plt, pandas as pd, theano, theano.tensor as tt\n",
        "from scipy import stats\n",
        "import seaborn as sb\n",
        "from sklearn.preprocessing import OrdinalEncoder, StandardScaler\n",
        "import arviz as az\n",
        "\n",
        "%matplotlib inline\n",
        "import matplotlib.pyplot as plt\n",
        "from matplotlib.pyplot import *\n",
        "\n",
        "import theano"
      ],
      "execution_count": 4,
      "outputs": []
    },
    {
      "cell_type": "code",
      "metadata": {
        "id": "_xwy-mbM7dSM",
        "outputId": "b935d704-a8fd-449e-e6a5-8bcc00d9feb4",
        "colab": {
          "base_uri": "https://localhost:8080/",
          "height": 204
        }
      },
      "source": [
        "chemical = pd.read_csv('/content/drive/My Drive/Fall 2020/info510/hwk4/chemical.csv')\n",
        "chemical.head()\n",
        "\n",
        "chem_blocks = chemical.x1.unique()\n",
        "chem_idx = OrdinalEncoder(dtype = np.int64).fit_transform(chemical[['x1']])\n",
        "n_chem = len(chemical.x1.unique())\n",
        "\n",
        "chemical.head()"
      ],
      "execution_count": 5,
      "outputs": [
        {
          "output_type": "execute_result",
          "data": {
            "text/html": [
              "<div>\n",
              "<style scoped>\n",
              "    .dataframe tbody tr th:only-of-type {\n",
              "        vertical-align: middle;\n",
              "    }\n",
              "\n",
              "    .dataframe tbody tr th {\n",
              "        vertical-align: top;\n",
              "    }\n",
              "\n",
              "    .dataframe thead th {\n",
              "        text-align: right;\n",
              "    }\n",
              "</style>\n",
              "<table border=\"1\" class=\"dataframe\">\n",
              "  <thead>\n",
              "    <tr style=\"text-align: right;\">\n",
              "      <th></th>\n",
              "      <th>x1</th>\n",
              "      <th>x2</th>\n",
              "      <th>x3</th>\n",
              "      <th>y</th>\n",
              "    </tr>\n",
              "  </thead>\n",
              "  <tbody>\n",
              "    <tr>\n",
              "      <th>0</th>\n",
              "      <td>1300</td>\n",
              "      <td>7.5</td>\n",
              "      <td>0.0120</td>\n",
              "      <td>49.0</td>\n",
              "    </tr>\n",
              "    <tr>\n",
              "      <th>1</th>\n",
              "      <td>1300</td>\n",
              "      <td>9.0</td>\n",
              "      <td>0.0120</td>\n",
              "      <td>50.2</td>\n",
              "    </tr>\n",
              "    <tr>\n",
              "      <th>2</th>\n",
              "      <td>1300</td>\n",
              "      <td>11.0</td>\n",
              "      <td>0.0115</td>\n",
              "      <td>50.5</td>\n",
              "    </tr>\n",
              "    <tr>\n",
              "      <th>3</th>\n",
              "      <td>1300</td>\n",
              "      <td>13.5</td>\n",
              "      <td>0.0130</td>\n",
              "      <td>48.5</td>\n",
              "    </tr>\n",
              "    <tr>\n",
              "      <th>4</th>\n",
              "      <td>1300</td>\n",
              "      <td>17.0</td>\n",
              "      <td>0.0135</td>\n",
              "      <td>47.5</td>\n",
              "    </tr>\n",
              "  </tbody>\n",
              "</table>\n",
              "</div>"
            ],
            "text/plain": [
              "     x1    x2      x3     y\n",
              "0  1300   7.5  0.0120  49.0\n",
              "1  1300   9.0  0.0120  50.2\n",
              "2  1300  11.0  0.0115  50.5\n",
              "3  1300  13.5  0.0130  48.5\n",
              "4  1300  17.0  0.0135  47.5"
            ]
          },
          "metadata": {
            "tags": []
          },
          "execution_count": 5
        }
      ]
    },
    {
      "cell_type": "code",
      "metadata": {
        "id": "QdAKG86x7zSs",
        "outputId": "80c7c461-0a1e-45f0-927e-2dae52a5c3d1",
        "colab": {
          "base_uri": "https://localhost:8080/",
          "height": 545
        }
      },
      "source": [
        "#create a data frame with the 9 explanatory variables\n",
        "\n",
        "variables = chemical.drop('y', axis=1)\n",
        "variables['x1x2'] = variables.x1.multiply(variables.x2)\n",
        "variables['x1x3'] = variables.x1.multiply(variables.x3)\n",
        "variables['x2x3'] = variables.x2.multiply(variables.x3)\n",
        "variables['x1_2'] = variables.x1**2\n",
        "variables['x2_2'] = variables.x2**2\n",
        "variables['x3_2'] = variables.x3**2\n",
        "variables\n",
        "\n",
        "#create another dataframe of the 9 explanatory variables and the outcome, y\n",
        "chem_var = variables.join(chemical.y)\n",
        "n_var = len(chem_var.y.unique())\n",
        "chem_var\n"
      ],
      "execution_count": 34,
      "outputs": [
        {
          "output_type": "execute_result",
          "data": {
            "text/html": [
              "<div>\n",
              "<style scoped>\n",
              "    .dataframe tbody tr th:only-of-type {\n",
              "        vertical-align: middle;\n",
              "    }\n",
              "\n",
              "    .dataframe tbody tr th {\n",
              "        vertical-align: top;\n",
              "    }\n",
              "\n",
              "    .dataframe thead th {\n",
              "        text-align: right;\n",
              "    }\n",
              "</style>\n",
              "<table border=\"1\" class=\"dataframe\">\n",
              "  <thead>\n",
              "    <tr style=\"text-align: right;\">\n",
              "      <th></th>\n",
              "      <th>x1</th>\n",
              "      <th>x2</th>\n",
              "      <th>x3</th>\n",
              "      <th>x1x2</th>\n",
              "      <th>x1x3</th>\n",
              "      <th>x2x3</th>\n",
              "      <th>x1_2</th>\n",
              "      <th>x2_2</th>\n",
              "      <th>x3_2</th>\n",
              "      <th>y</th>\n",
              "    </tr>\n",
              "  </thead>\n",
              "  <tbody>\n",
              "    <tr>\n",
              "      <th>0</th>\n",
              "      <td>1300</td>\n",
              "      <td>7.5</td>\n",
              "      <td>0.0120</td>\n",
              "      <td>9750.0</td>\n",
              "      <td>15.60</td>\n",
              "      <td>0.0900</td>\n",
              "      <td>1690000</td>\n",
              "      <td>56.25</td>\n",
              "      <td>0.000144</td>\n",
              "      <td>49.0</td>\n",
              "    </tr>\n",
              "    <tr>\n",
              "      <th>1</th>\n",
              "      <td>1300</td>\n",
              "      <td>9.0</td>\n",
              "      <td>0.0120</td>\n",
              "      <td>11700.0</td>\n",
              "      <td>15.60</td>\n",
              "      <td>0.1080</td>\n",
              "      <td>1690000</td>\n",
              "      <td>81.00</td>\n",
              "      <td>0.000144</td>\n",
              "      <td>50.2</td>\n",
              "    </tr>\n",
              "    <tr>\n",
              "      <th>2</th>\n",
              "      <td>1300</td>\n",
              "      <td>11.0</td>\n",
              "      <td>0.0115</td>\n",
              "      <td>14300.0</td>\n",
              "      <td>14.95</td>\n",
              "      <td>0.1265</td>\n",
              "      <td>1690000</td>\n",
              "      <td>121.00</td>\n",
              "      <td>0.000132</td>\n",
              "      <td>50.5</td>\n",
              "    </tr>\n",
              "    <tr>\n",
              "      <th>3</th>\n",
              "      <td>1300</td>\n",
              "      <td>13.5</td>\n",
              "      <td>0.0130</td>\n",
              "      <td>17550.0</td>\n",
              "      <td>16.90</td>\n",
              "      <td>0.1755</td>\n",
              "      <td>1690000</td>\n",
              "      <td>182.25</td>\n",
              "      <td>0.000169</td>\n",
              "      <td>48.5</td>\n",
              "    </tr>\n",
              "    <tr>\n",
              "      <th>4</th>\n",
              "      <td>1300</td>\n",
              "      <td>17.0</td>\n",
              "      <td>0.0135</td>\n",
              "      <td>22100.0</td>\n",
              "      <td>17.55</td>\n",
              "      <td>0.2295</td>\n",
              "      <td>1690000</td>\n",
              "      <td>289.00</td>\n",
              "      <td>0.000182</td>\n",
              "      <td>47.5</td>\n",
              "    </tr>\n",
              "    <tr>\n",
              "      <th>5</th>\n",
              "      <td>1300</td>\n",
              "      <td>23.0</td>\n",
              "      <td>0.0120</td>\n",
              "      <td>29900.0</td>\n",
              "      <td>15.60</td>\n",
              "      <td>0.2760</td>\n",
              "      <td>1690000</td>\n",
              "      <td>529.00</td>\n",
              "      <td>0.000144</td>\n",
              "      <td>44.5</td>\n",
              "    </tr>\n",
              "    <tr>\n",
              "      <th>6</th>\n",
              "      <td>1200</td>\n",
              "      <td>5.3</td>\n",
              "      <td>0.0400</td>\n",
              "      <td>6360.0</td>\n",
              "      <td>48.00</td>\n",
              "      <td>0.2120</td>\n",
              "      <td>1440000</td>\n",
              "      <td>28.09</td>\n",
              "      <td>0.001600</td>\n",
              "      <td>28.0</td>\n",
              "    </tr>\n",
              "    <tr>\n",
              "      <th>7</th>\n",
              "      <td>1200</td>\n",
              "      <td>7.5</td>\n",
              "      <td>0.0380</td>\n",
              "      <td>9000.0</td>\n",
              "      <td>45.60</td>\n",
              "      <td>0.2850</td>\n",
              "      <td>1440000</td>\n",
              "      <td>56.25</td>\n",
              "      <td>0.001444</td>\n",
              "      <td>31.5</td>\n",
              "    </tr>\n",
              "    <tr>\n",
              "      <th>8</th>\n",
              "      <td>1200</td>\n",
              "      <td>11.0</td>\n",
              "      <td>0.0320</td>\n",
              "      <td>13200.0</td>\n",
              "      <td>38.40</td>\n",
              "      <td>0.3520</td>\n",
              "      <td>1440000</td>\n",
              "      <td>121.00</td>\n",
              "      <td>0.001024</td>\n",
              "      <td>34.5</td>\n",
              "    </tr>\n",
              "    <tr>\n",
              "      <th>9</th>\n",
              "      <td>1200</td>\n",
              "      <td>13.5</td>\n",
              "      <td>0.0260</td>\n",
              "      <td>16200.0</td>\n",
              "      <td>31.20</td>\n",
              "      <td>0.3510</td>\n",
              "      <td>1440000</td>\n",
              "      <td>182.25</td>\n",
              "      <td>0.000676</td>\n",
              "      <td>35.0</td>\n",
              "    </tr>\n",
              "    <tr>\n",
              "      <th>10</th>\n",
              "      <td>1200</td>\n",
              "      <td>17.0</td>\n",
              "      <td>0.0340</td>\n",
              "      <td>20400.0</td>\n",
              "      <td>40.80</td>\n",
              "      <td>0.5780</td>\n",
              "      <td>1440000</td>\n",
              "      <td>289.00</td>\n",
              "      <td>0.001156</td>\n",
              "      <td>38.0</td>\n",
              "    </tr>\n",
              "    <tr>\n",
              "      <th>11</th>\n",
              "      <td>1200</td>\n",
              "      <td>23.0</td>\n",
              "      <td>0.0410</td>\n",
              "      <td>27600.0</td>\n",
              "      <td>49.20</td>\n",
              "      <td>0.9430</td>\n",
              "      <td>1440000</td>\n",
              "      <td>529.00</td>\n",
              "      <td>0.001681</td>\n",
              "      <td>38.5</td>\n",
              "    </tr>\n",
              "    <tr>\n",
              "      <th>12</th>\n",
              "      <td>1100</td>\n",
              "      <td>5.3</td>\n",
              "      <td>0.0840</td>\n",
              "      <td>5830.0</td>\n",
              "      <td>92.40</td>\n",
              "      <td>0.4452</td>\n",
              "      <td>1210000</td>\n",
              "      <td>28.09</td>\n",
              "      <td>0.007056</td>\n",
              "      <td>15.0</td>\n",
              "    </tr>\n",
              "    <tr>\n",
              "      <th>13</th>\n",
              "      <td>1100</td>\n",
              "      <td>7.5</td>\n",
              "      <td>0.0980</td>\n",
              "      <td>8250.0</td>\n",
              "      <td>107.80</td>\n",
              "      <td>0.7350</td>\n",
              "      <td>1210000</td>\n",
              "      <td>56.25</td>\n",
              "      <td>0.009604</td>\n",
              "      <td>17.0</td>\n",
              "    </tr>\n",
              "    <tr>\n",
              "      <th>14</th>\n",
              "      <td>1100</td>\n",
              "      <td>11.0</td>\n",
              "      <td>0.0920</td>\n",
              "      <td>12100.0</td>\n",
              "      <td>101.20</td>\n",
              "      <td>1.0120</td>\n",
              "      <td>1210000</td>\n",
              "      <td>121.00</td>\n",
              "      <td>0.008464</td>\n",
              "      <td>20.5</td>\n",
              "    </tr>\n",
              "    <tr>\n",
              "      <th>15</th>\n",
              "      <td>1100</td>\n",
              "      <td>17.0</td>\n",
              "      <td>0.0860</td>\n",
              "      <td>18700.0</td>\n",
              "      <td>94.60</td>\n",
              "      <td>1.4620</td>\n",
              "      <td>1210000</td>\n",
              "      <td>289.00</td>\n",
              "      <td>0.007396</td>\n",
              "      <td>19.5</td>\n",
              "    </tr>\n",
              "  </tbody>\n",
              "</table>\n",
              "</div>"
            ],
            "text/plain": [
              "      x1    x2      x3     x1x2  ...     x1_2    x2_2      x3_2     y\n",
              "0   1300   7.5  0.0120   9750.0  ...  1690000   56.25  0.000144  49.0\n",
              "1   1300   9.0  0.0120  11700.0  ...  1690000   81.00  0.000144  50.2\n",
              "2   1300  11.0  0.0115  14300.0  ...  1690000  121.00  0.000132  50.5\n",
              "3   1300  13.5  0.0130  17550.0  ...  1690000  182.25  0.000169  48.5\n",
              "4   1300  17.0  0.0135  22100.0  ...  1690000  289.00  0.000182  47.5\n",
              "5   1300  23.0  0.0120  29900.0  ...  1690000  529.00  0.000144  44.5\n",
              "6   1200   5.3  0.0400   6360.0  ...  1440000   28.09  0.001600  28.0\n",
              "7   1200   7.5  0.0380   9000.0  ...  1440000   56.25  0.001444  31.5\n",
              "8   1200  11.0  0.0320  13200.0  ...  1440000  121.00  0.001024  34.5\n",
              "9   1200  13.5  0.0260  16200.0  ...  1440000  182.25  0.000676  35.0\n",
              "10  1200  17.0  0.0340  20400.0  ...  1440000  289.00  0.001156  38.0\n",
              "11  1200  23.0  0.0410  27600.0  ...  1440000  529.00  0.001681  38.5\n",
              "12  1100   5.3  0.0840   5830.0  ...  1210000   28.09  0.007056  15.0\n",
              "13  1100   7.5  0.0980   8250.0  ...  1210000   56.25  0.009604  17.0\n",
              "14  1100  11.0  0.0920  12100.0  ...  1210000  121.00  0.008464  20.5\n",
              "15  1100  17.0  0.0860  18700.0  ...  1210000  289.00  0.007396  19.5\n",
              "\n",
              "[16 rows x 10 columns]"
            ]
          },
          "metadata": {
            "tags": []
          },
          "execution_count": 34
        }
      ]
    },
    {
      "cell_type": "code",
      "metadata": {
        "id": "b_-q5LQNB2Fq",
        "outputId": "173f6b59-558d-4ba2-c880-18579acd3fd8",
        "colab": {
          "base_uri": "https://localhost:8080/"
        }
      },
      "source": [
        "with pm.Model() as ord_model:\n",
        "  alpha = pm.Normal('alpha', 0, 1)\n",
        "  sigma = pm.HalfCauchy('sigma', 5)\n",
        "\n",
        "  vari = theano.shared(chem_var.loc[:,'x1':'x3_2'].values)\n",
        "\n",
        "  b = pm.Flat('b', shape =9)\n",
        "\n",
        "  mu = alpha + b[0]*chem_var.x1 + b[1]*chem_var.x2 + b[2]*chem_var.x3 + b[3]*chem_var.x1x2 +  b[4]*chem_var.x1x3 + b[5]*chem_var.x2x3 + b[6]*chem_var.x1_2 + b[7]*chem_var.x2_2 + b[8]*chem_var.x3_2\n",
        "\n",
        "  y = pm.Normal('y', mu, sigma, observed=chem_var.y)\n",
        "\n",
        "\n",
        "\n",
        "\n",
        "  # mu = alpha + b[chem_var.x1] + b[chem_var.x2] + b[chem_var.x3] + b[chem_var.x1x2] + b[chem_var.x1x3] + b[chem_var.x2x3] + b[chem_var.x1_2] + b[chem_var.x2_2] + b[chem_var.x3_2]\n",
        "\n",
        "print(mu)\n",
        "\n",
        "  # b_x1 = pm.Normal('b_x1', 0, 1, shape = n_var)\n",
        "  # b_x2 = pm.Normal('b_x2', 0, 1, shape = n_var)\n",
        "  # b_x3 = pm.Normal('b_x3', 0, 1, shape = n_var)\n",
        "  # b_x1x2 = pm.Normal('b_x1x2', 0, 1, shape = n_var)\n",
        "  # b_x1x3 = pm.Normal('b_x1x3', 0, 1, shape = n_var)\n",
        "  # b_x2x3 = pm.Normal('b_x2x3', 0, 1, shape = n_var)\n",
        "  # b_x1_2 = pm.Normal('b_x1_2', 0, 1, shape = n_var)\n",
        "  # b_x2_2 = pm.Normal('b_x2_2', 0, 1, shape = n_var)\n",
        "  # b_x3_2 = pm.Normal('b_x3_2', 0, 1, shape = n_var)\n",
        "\n",
        "  # mu = alpha + tt.dot(b_x1, chem_var.x1) + tt.dot(b_x2, chem_var.x2)\n",
        "  # + tt.dot(b_x3, chem_var.x3) + tt.dot(b_x1x2, chem_var.x1x2) + tt.dot(b_x1x3, chem_var.x1x3)\n",
        "  # + tt.dot(b_x2x3, chem_var.x2x3) +tt.dot(b_x1_2, chem_var['x1^2']) +tt.dot(b_x2_2, chem_var['x2^2'])\n",
        "  # + tt.dot(b_x3_2, chem_var['x3^2'])\n",
        "\n"
      ],
      "execution_count": 82,
      "outputs": [
        {
          "output_type": "stream",
          "text": [
            "Elemwise{add,no_inplace}.0\n"
          ],
          "name": "stdout"
        }
      ]
    },
    {
      "cell_type": "code",
      "metadata": {
        "id": "d5TT81xnFFCj",
        "outputId": "08a7b5af-3751-4539-cf37-9631d1732b69",
        "colab": {
          "base_uri": "https://localhost:8080/",
          "height": 598
        }
      },
      "source": [
        "with ord_model:\n",
        "    trace_1 = pm.sample(2000)\n",
        "    trace_1_sum = pm.summary(trace_1)\n",
        "\n",
        "trace_1_sum"
      ],
      "execution_count": 83,
      "outputs": [
        {
          "output_type": "stream",
          "text": [
            "Auto-assigning NUTS sampler...\n",
            "Initializing NUTS using jitter+adapt_diag...\n",
            "Sequential sampling (2 chains in 1 job)\n",
            "NUTS: [b, sigma, alpha]\n"
          ],
          "name": "stderr"
        },
        {
          "output_type": "display_data",
          "data": {
            "text/html": [
              "\n",
              "    <div>\n",
              "        <style>\n",
              "            /* Turns off some styling */\n",
              "            progress {\n",
              "                /* gets rid of default border in Firefox and Opera. */\n",
              "                border: none;\n",
              "                /* Needs to be in here for Safari polyfill so background images work as expected. */\n",
              "                background-size: auto;\n",
              "            }\n",
              "            .progress-bar-interrupted, .progress-bar-interrupted::-webkit-progress-bar {\n",
              "                background: #F44336;\n",
              "            }\n",
              "        </style>\n",
              "      <progress value='0' class='progress-bar-interrupted' max='3000' style='width:300px; height:20px; vertical-align: middle;'></progress>\n",
              "      Interrupted\n",
              "    </div>\n",
              "    "
            ],
            "text/plain": [
              "<IPython.core.display.HTML object>"
            ]
          },
          "metadata": {
            "tags": []
          }
        },
        {
          "output_type": "error",
          "ename": "ValueError",
          "evalue": "ignored",
          "traceback": [
            "\u001b[0;31m---------------------------------------------------------------------------\u001b[0m",
            "\u001b[0;31mValueError\u001b[0m                                Traceback (most recent call last)",
            "\u001b[0;32m<ipython-input-83-7e5315096b0f>\u001b[0m in \u001b[0;36m<module>\u001b[0;34m()\u001b[0m\n\u001b[1;32m      1\u001b[0m \u001b[0;32mwith\u001b[0m \u001b[0mord_model\u001b[0m\u001b[0;34m:\u001b[0m\u001b[0;34m\u001b[0m\u001b[0;34m\u001b[0m\u001b[0m\n\u001b[0;32m----> 2\u001b[0;31m     \u001b[0mtrace_1\u001b[0m \u001b[0;34m=\u001b[0m \u001b[0mpm\u001b[0m\u001b[0;34m.\u001b[0m\u001b[0msample\u001b[0m\u001b[0;34m(\u001b[0m\u001b[0;36m2000\u001b[0m\u001b[0;34m)\u001b[0m\u001b[0;34m\u001b[0m\u001b[0;34m\u001b[0m\u001b[0m\n\u001b[0m\u001b[1;32m      3\u001b[0m     \u001b[0mtrace_1_sum\u001b[0m \u001b[0;34m=\u001b[0m \u001b[0mpm\u001b[0m\u001b[0;34m.\u001b[0m\u001b[0msummary\u001b[0m\u001b[0;34m(\u001b[0m\u001b[0mtrace_1\u001b[0m\u001b[0;34m)\u001b[0m\u001b[0;34m\u001b[0m\u001b[0;34m\u001b[0m\u001b[0m\n\u001b[1;32m      4\u001b[0m \u001b[0;34m\u001b[0m\u001b[0m\n\u001b[1;32m      5\u001b[0m \u001b[0mtrace_1_sum\u001b[0m\u001b[0;34m\u001b[0m\u001b[0;34m\u001b[0m\u001b[0m\n",
            "\u001b[0;32m/usr/local/lib/python3.6/dist-packages/pymc3/sampling.py\u001b[0m in \u001b[0;36msample\u001b[0;34m(draws, step, init, n_init, start, trace, chain_idx, chains, cores, tune, progressbar, model, random_seed, discard_tuned_samples, compute_convergence_checks, callback, return_inferencedata, idata_kwargs, mp_ctx, pickle_backend, **kwargs)\u001b[0m\n\u001b[1;32m    584\u001b[0m             \u001b[0m_log\u001b[0m\u001b[0;34m.\u001b[0m\u001b[0minfo\u001b[0m\u001b[0;34m(\u001b[0m\u001b[0;34m\"Sequential sampling ({} chains in 1 job)\"\u001b[0m\u001b[0;34m.\u001b[0m\u001b[0mformat\u001b[0m\u001b[0;34m(\u001b[0m\u001b[0mchains\u001b[0m\u001b[0;34m)\u001b[0m\u001b[0;34m)\u001b[0m\u001b[0;34m\u001b[0m\u001b[0;34m\u001b[0m\u001b[0m\n\u001b[1;32m    585\u001b[0m             \u001b[0m_print_step_hierarchy\u001b[0m\u001b[0;34m(\u001b[0m\u001b[0mstep\u001b[0m\u001b[0;34m)\u001b[0m\u001b[0;34m\u001b[0m\u001b[0;34m\u001b[0m\u001b[0m\n\u001b[0;32m--> 586\u001b[0;31m             \u001b[0mtrace\u001b[0m \u001b[0;34m=\u001b[0m \u001b[0m_sample_many\u001b[0m\u001b[0;34m(\u001b[0m\u001b[0;34m**\u001b[0m\u001b[0msample_args\u001b[0m\u001b[0;34m)\u001b[0m\u001b[0;34m\u001b[0m\u001b[0;34m\u001b[0m\u001b[0m\n\u001b[0m\u001b[1;32m    587\u001b[0m \u001b[0;34m\u001b[0m\u001b[0m\n\u001b[1;32m    588\u001b[0m     \u001b[0mt_sampling\u001b[0m \u001b[0;34m=\u001b[0m \u001b[0mtime\u001b[0m\u001b[0;34m.\u001b[0m\u001b[0mtime\u001b[0m\u001b[0;34m(\u001b[0m\u001b[0;34m)\u001b[0m \u001b[0;34m-\u001b[0m \u001b[0mt_start\u001b[0m\u001b[0;34m\u001b[0m\u001b[0;34m\u001b[0m\u001b[0m\n",
            "\u001b[0;32m/usr/local/lib/python3.6/dist-packages/pymc3/sampling.py\u001b[0m in \u001b[0;36m_sample_many\u001b[0;34m(draws, chain, chains, start, random_seed, step, callback, **kwargs)\u001b[0m\n\u001b[1;32m    705\u001b[0m             \u001b[0mrandom_seed\u001b[0m\u001b[0;34m=\u001b[0m\u001b[0mrandom_seed\u001b[0m\u001b[0;34m[\u001b[0m\u001b[0mi\u001b[0m\u001b[0;34m]\u001b[0m\u001b[0;34m,\u001b[0m\u001b[0;34m\u001b[0m\u001b[0;34m\u001b[0m\u001b[0m\n\u001b[1;32m    706\u001b[0m             \u001b[0mcallback\u001b[0m\u001b[0;34m=\u001b[0m\u001b[0mcallback\u001b[0m\u001b[0;34m,\u001b[0m\u001b[0;34m\u001b[0m\u001b[0;34m\u001b[0m\u001b[0m\n\u001b[0;32m--> 707\u001b[0;31m             \u001b[0;34m**\u001b[0m\u001b[0mkwargs\u001b[0m\u001b[0;34m,\u001b[0m\u001b[0;34m\u001b[0m\u001b[0;34m\u001b[0m\u001b[0m\n\u001b[0m\u001b[1;32m    708\u001b[0m         )\n\u001b[1;32m    709\u001b[0m         \u001b[0;32mif\u001b[0m \u001b[0mtrace\u001b[0m \u001b[0;32mis\u001b[0m \u001b[0;32mNone\u001b[0m\u001b[0;34m:\u001b[0m\u001b[0;34m\u001b[0m\u001b[0;34m\u001b[0m\u001b[0m\n",
            "\u001b[0;32m/usr/local/lib/python3.6/dist-packages/pymc3/sampling.py\u001b[0m in \u001b[0;36m_sample\u001b[0;34m(chain, progressbar, random_seed, start, draws, step, trace, tune, model, callback, **kwargs)\u001b[0m\n\u001b[1;32m    844\u001b[0m     \u001b[0;32mtry\u001b[0m\u001b[0;34m:\u001b[0m\u001b[0;34m\u001b[0m\u001b[0;34m\u001b[0m\u001b[0m\n\u001b[1;32m    845\u001b[0m         \u001b[0mstrace\u001b[0m \u001b[0;34m=\u001b[0m \u001b[0;32mNone\u001b[0m\u001b[0;34m\u001b[0m\u001b[0;34m\u001b[0m\u001b[0m\n\u001b[0;32m--> 846\u001b[0;31m         \u001b[0;32mfor\u001b[0m \u001b[0mit\u001b[0m\u001b[0;34m,\u001b[0m \u001b[0;34m(\u001b[0m\u001b[0mstrace\u001b[0m\u001b[0;34m,\u001b[0m \u001b[0mdiverging\u001b[0m\u001b[0;34m)\u001b[0m \u001b[0;32min\u001b[0m \u001b[0menumerate\u001b[0m\u001b[0;34m(\u001b[0m\u001b[0msampling\u001b[0m\u001b[0;34m)\u001b[0m\u001b[0;34m:\u001b[0m\u001b[0;34m\u001b[0m\u001b[0;34m\u001b[0m\u001b[0m\n\u001b[0m\u001b[1;32m    847\u001b[0m             \u001b[0;32mif\u001b[0m \u001b[0mit\u001b[0m \u001b[0;34m>=\u001b[0m \u001b[0mskip_first\u001b[0m \u001b[0;32mand\u001b[0m \u001b[0mdiverging\u001b[0m\u001b[0;34m:\u001b[0m\u001b[0;34m\u001b[0m\u001b[0;34m\u001b[0m\u001b[0m\n\u001b[1;32m    848\u001b[0m                 \u001b[0m_pbar_data\u001b[0m\u001b[0;34m[\u001b[0m\u001b[0;34m\"divergences\"\u001b[0m\u001b[0;34m]\u001b[0m \u001b[0;34m+=\u001b[0m \u001b[0;36m1\u001b[0m\u001b[0;34m\u001b[0m\u001b[0;34m\u001b[0m\u001b[0m\n",
            "\u001b[0;32m/usr/local/lib/python3.6/dist-packages/fastprogress/fastprogress.py\u001b[0m in \u001b[0;36m__iter__\u001b[0;34m(self)\u001b[0m\n\u001b[1;32m     45\u001b[0m         \u001b[0;32mexcept\u001b[0m \u001b[0mException\u001b[0m \u001b[0;32mas\u001b[0m \u001b[0me\u001b[0m\u001b[0;34m:\u001b[0m\u001b[0;34m\u001b[0m\u001b[0;34m\u001b[0m\u001b[0m\n\u001b[1;32m     46\u001b[0m             \u001b[0mself\u001b[0m\u001b[0;34m.\u001b[0m\u001b[0mon_interrupt\u001b[0m\u001b[0;34m(\u001b[0m\u001b[0;34m)\u001b[0m\u001b[0;34m\u001b[0m\u001b[0;34m\u001b[0m\u001b[0m\n\u001b[0;32m---> 47\u001b[0;31m             \u001b[0;32mraise\u001b[0m \u001b[0me\u001b[0m\u001b[0;34m\u001b[0m\u001b[0;34m\u001b[0m\u001b[0m\n\u001b[0m\u001b[1;32m     48\u001b[0m \u001b[0;34m\u001b[0m\u001b[0m\n\u001b[1;32m     49\u001b[0m     \u001b[0;32mdef\u001b[0m \u001b[0mupdate\u001b[0m\u001b[0;34m(\u001b[0m\u001b[0mself\u001b[0m\u001b[0;34m,\u001b[0m \u001b[0mval\u001b[0m\u001b[0;34m)\u001b[0m\u001b[0;34m:\u001b[0m\u001b[0;34m\u001b[0m\u001b[0;34m\u001b[0m\u001b[0m\n",
            "\u001b[0;32m/usr/local/lib/python3.6/dist-packages/fastprogress/fastprogress.py\u001b[0m in \u001b[0;36m__iter__\u001b[0;34m(self)\u001b[0m\n\u001b[1;32m     39\u001b[0m         \u001b[0;32mif\u001b[0m \u001b[0mself\u001b[0m\u001b[0;34m.\u001b[0m\u001b[0mtotal\u001b[0m \u001b[0;34m!=\u001b[0m \u001b[0;36m0\u001b[0m\u001b[0;34m:\u001b[0m \u001b[0mself\u001b[0m\u001b[0;34m.\u001b[0m\u001b[0mupdate\u001b[0m\u001b[0;34m(\u001b[0m\u001b[0;36m0\u001b[0m\u001b[0;34m)\u001b[0m\u001b[0;34m\u001b[0m\u001b[0;34m\u001b[0m\u001b[0m\n\u001b[1;32m     40\u001b[0m         \u001b[0;32mtry\u001b[0m\u001b[0;34m:\u001b[0m\u001b[0;34m\u001b[0m\u001b[0;34m\u001b[0m\u001b[0m\n\u001b[0;32m---> 41\u001b[0;31m             \u001b[0;32mfor\u001b[0m \u001b[0mi\u001b[0m\u001b[0;34m,\u001b[0m\u001b[0mo\u001b[0m \u001b[0;32min\u001b[0m \u001b[0menumerate\u001b[0m\u001b[0;34m(\u001b[0m\u001b[0mself\u001b[0m\u001b[0;34m.\u001b[0m\u001b[0mgen\u001b[0m\u001b[0;34m)\u001b[0m\u001b[0;34m:\u001b[0m\u001b[0;34m\u001b[0m\u001b[0;34m\u001b[0m\u001b[0m\n\u001b[0m\u001b[1;32m     42\u001b[0m                 \u001b[0;32mif\u001b[0m \u001b[0mi\u001b[0m \u001b[0;34m>=\u001b[0m \u001b[0mself\u001b[0m\u001b[0;34m.\u001b[0m\u001b[0mtotal\u001b[0m\u001b[0;34m:\u001b[0m \u001b[0;32mbreak\u001b[0m\u001b[0;34m\u001b[0m\u001b[0;34m\u001b[0m\u001b[0m\n\u001b[1;32m     43\u001b[0m                 \u001b[0;32myield\u001b[0m \u001b[0mo\u001b[0m\u001b[0;34m\u001b[0m\u001b[0;34m\u001b[0m\u001b[0m\n",
            "\u001b[0;32m/usr/local/lib/python3.6/dist-packages/pymc3/sampling.py\u001b[0m in \u001b[0;36m_iter_sample\u001b[0;34m(draws, step, start, trace, chain, tune, model, random_seed, callback)\u001b[0m\n\u001b[1;32m   1001\u001b[0m                 \u001b[0mstep\u001b[0m \u001b[0;34m=\u001b[0m \u001b[0mstop_tuning\u001b[0m\u001b[0;34m(\u001b[0m\u001b[0mstep\u001b[0m\u001b[0;34m)\u001b[0m\u001b[0;34m\u001b[0m\u001b[0;34m\u001b[0m\u001b[0m\n\u001b[1;32m   1002\u001b[0m             \u001b[0;32mif\u001b[0m \u001b[0mstep\u001b[0m\u001b[0;34m.\u001b[0m\u001b[0mgenerates_stats\u001b[0m\u001b[0;34m:\u001b[0m\u001b[0;34m\u001b[0m\u001b[0;34m\u001b[0m\u001b[0m\n\u001b[0;32m-> 1003\u001b[0;31m                 \u001b[0mpoint\u001b[0m\u001b[0;34m,\u001b[0m \u001b[0mstats\u001b[0m \u001b[0;34m=\u001b[0m \u001b[0mstep\u001b[0m\u001b[0;34m.\u001b[0m\u001b[0mstep\u001b[0m\u001b[0;34m(\u001b[0m\u001b[0mpoint\u001b[0m\u001b[0;34m)\u001b[0m\u001b[0;34m\u001b[0m\u001b[0;34m\u001b[0m\u001b[0m\n\u001b[0m\u001b[1;32m   1004\u001b[0m                 \u001b[0;32mif\u001b[0m \u001b[0mstrace\u001b[0m\u001b[0;34m.\u001b[0m\u001b[0msupports_sampler_stats\u001b[0m\u001b[0;34m:\u001b[0m\u001b[0;34m\u001b[0m\u001b[0;34m\u001b[0m\u001b[0m\n\u001b[1;32m   1005\u001b[0m                     \u001b[0mstrace\u001b[0m\u001b[0;34m.\u001b[0m\u001b[0mrecord\u001b[0m\u001b[0;34m(\u001b[0m\u001b[0mpoint\u001b[0m\u001b[0;34m,\u001b[0m \u001b[0mstats\u001b[0m\u001b[0;34m)\u001b[0m\u001b[0;34m\u001b[0m\u001b[0;34m\u001b[0m\u001b[0m\n",
            "\u001b[0;32m/usr/local/lib/python3.6/dist-packages/pymc3/step_methods/arraystep.py\u001b[0m in \u001b[0;36mstep\u001b[0;34m(self, point)\u001b[0m\n\u001b[1;32m    261\u001b[0m \u001b[0;34m\u001b[0m\u001b[0m\n\u001b[1;32m    262\u001b[0m         \u001b[0;32mif\u001b[0m \u001b[0mself\u001b[0m\u001b[0;34m.\u001b[0m\u001b[0mgenerates_stats\u001b[0m\u001b[0;34m:\u001b[0m\u001b[0;34m\u001b[0m\u001b[0;34m\u001b[0m\u001b[0m\n\u001b[0;32m--> 263\u001b[0;31m             \u001b[0mapoint\u001b[0m\u001b[0;34m,\u001b[0m \u001b[0mstats\u001b[0m \u001b[0;34m=\u001b[0m \u001b[0mself\u001b[0m\u001b[0;34m.\u001b[0m\u001b[0mastep\u001b[0m\u001b[0;34m(\u001b[0m\u001b[0marray\u001b[0m\u001b[0;34m)\u001b[0m\u001b[0;34m\u001b[0m\u001b[0;34m\u001b[0m\u001b[0m\n\u001b[0m\u001b[1;32m    264\u001b[0m             \u001b[0mpoint\u001b[0m \u001b[0;34m=\u001b[0m \u001b[0mself\u001b[0m\u001b[0;34m.\u001b[0m\u001b[0m_logp_dlogp_func\u001b[0m\u001b[0;34m.\u001b[0m\u001b[0marray_to_full_dict\u001b[0m\u001b[0;34m(\u001b[0m\u001b[0mapoint\u001b[0m\u001b[0;34m)\u001b[0m\u001b[0;34m\u001b[0m\u001b[0;34m\u001b[0m\u001b[0m\n\u001b[1;32m    265\u001b[0m             \u001b[0;32mreturn\u001b[0m \u001b[0mpoint\u001b[0m\u001b[0;34m,\u001b[0m \u001b[0mstats\u001b[0m\u001b[0;34m\u001b[0m\u001b[0;34m\u001b[0m\u001b[0m\n",
            "\u001b[0;32m/usr/local/lib/python3.6/dist-packages/pymc3/step_methods/hmc/base_hmc.py\u001b[0m in \u001b[0;36mastep\u001b[0;34m(self, q0)\u001b[0m\n\u001b[1;32m    152\u001b[0m                 \u001b[0;34m(\u001b[0m\u001b[0mnp\u001b[0m\u001b[0;34m.\u001b[0m\u001b[0mabs\u001b[0m\u001b[0;34m(\u001b[0m\u001b[0mcheck_test_point\u001b[0m\u001b[0;34m)\u001b[0m \u001b[0;34m>=\u001b[0m \u001b[0;36m1e20\u001b[0m\u001b[0;34m)\u001b[0m \u001b[0;34m|\u001b[0m \u001b[0mnp\u001b[0m\u001b[0;34m.\u001b[0m\u001b[0misnan\u001b[0m\u001b[0;34m(\u001b[0m\u001b[0mcheck_test_point\u001b[0m\u001b[0;34m)\u001b[0m\u001b[0;34m\u001b[0m\u001b[0;34m\u001b[0m\u001b[0m\n\u001b[1;32m    153\u001b[0m             ]\n\u001b[0;32m--> 154\u001b[0;31m             \u001b[0mself\u001b[0m\u001b[0;34m.\u001b[0m\u001b[0mpotential\u001b[0m\u001b[0;34m.\u001b[0m\u001b[0mraise_ok\u001b[0m\u001b[0;34m(\u001b[0m\u001b[0mself\u001b[0m\u001b[0;34m.\u001b[0m\u001b[0m_logp_dlogp_func\u001b[0m\u001b[0;34m.\u001b[0m\u001b[0m_ordering\u001b[0m\u001b[0;34m.\u001b[0m\u001b[0mvmap\u001b[0m\u001b[0;34m)\u001b[0m\u001b[0;34m\u001b[0m\u001b[0;34m\u001b[0m\u001b[0m\n\u001b[0m\u001b[1;32m    155\u001b[0m             message_energy = (\n\u001b[1;32m    156\u001b[0m                 \u001b[0;34m\"Bad initial energy, check any log probabilities that \"\u001b[0m\u001b[0;34m\u001b[0m\u001b[0;34m\u001b[0m\u001b[0m\n",
            "\u001b[0;32m/usr/local/lib/python3.6/dist-packages/pymc3/step_methods/hmc/quadpotential.py\u001b[0m in \u001b[0;36mraise_ok\u001b[0;34m(self, vmap)\u001b[0m\n\u001b[1;32m    261\u001b[0m                 errmsg.append('The derivative of RV `{}`.ravel()[{}]'\n\u001b[1;32m    262\u001b[0m                               ' is zero.'.format(*name_slc[ii]))\n\u001b[0;32m--> 263\u001b[0;31m             \u001b[0;32mraise\u001b[0m \u001b[0mValueError\u001b[0m\u001b[0;34m(\u001b[0m\u001b[0;34m'\\n'\u001b[0m\u001b[0;34m.\u001b[0m\u001b[0mjoin\u001b[0m\u001b[0;34m(\u001b[0m\u001b[0merrmsg\u001b[0m\u001b[0;34m)\u001b[0m\u001b[0;34m)\u001b[0m\u001b[0;34m\u001b[0m\u001b[0;34m\u001b[0m\u001b[0m\n\u001b[0m\u001b[1;32m    264\u001b[0m \u001b[0;34m\u001b[0m\u001b[0m\n\u001b[1;32m    265\u001b[0m         \u001b[0;32mif\u001b[0m \u001b[0mnp\u001b[0m\u001b[0;34m.\u001b[0m\u001b[0many\u001b[0m\u001b[0;34m(\u001b[0m\u001b[0;34m~\u001b[0m\u001b[0mnp\u001b[0m\u001b[0;34m.\u001b[0m\u001b[0misfinite\u001b[0m\u001b[0;34m(\u001b[0m\u001b[0mself\u001b[0m\u001b[0;34m.\u001b[0m\u001b[0m_stds\u001b[0m\u001b[0;34m)\u001b[0m\u001b[0;34m)\u001b[0m\u001b[0;34m:\u001b[0m\u001b[0;34m\u001b[0m\u001b[0;34m\u001b[0m\u001b[0m\n",
            "\u001b[0;31mValueError\u001b[0m: Mass matrix contains zeros on the diagonal. \nThe derivative of RV `b`.ravel()[1] is zero.\nThe derivative of RV `b`.ravel()[2] is zero.\nThe derivative of RV `b`.ravel()[4] is zero.\nThe derivative of RV `b`.ravel()[5] is zero.\nThe derivative of RV `b`.ravel()[7] is zero.\nThe derivative of RV `b`.ravel()[8] is zero.\nThe derivative of RV `alpha`.ravel()[0] is zero."
          ]
        }
      ]
    },
    {
      "cell_type": "code",
      "metadata": {
        "id": "LQu9GNHbDh1H"
      },
      "source": [
        "with pm.Model() as model_1:\n",
        "\n",
        "    # Independent parameters for each county\n",
        "    a = pm.Normal('a', 0, sigma=100, shape=n_chem)\n",
        "    b = pm.Normal('b', 0, sigma=100, shape=n_chem)\n",
        "\n",
        "    # Model error\n",
        "    eps = pm.HalfCauchy('eps', 5)\n",
        "\n",
        "    # Model prediction of radon level\n",
        "    # a[county_idx] translates to a[0, 0, 0, 1, 1, ...],\n",
        "    # we thus link multiple household measures of a county\n",
        "    # to its coefficients.\n",
        "    chem_est = a[chem_idx] + b[chem_idx]*chemical.y.values\n",
        "\n",
        "    # Data likelihood\n",
        "    y = pm.Normal('y', chem_est, sigma=eps, observed=chemical.y)"
      ],
      "execution_count": 4,
      "outputs": []
    },
    {
      "cell_type": "code",
      "metadata": {
        "id": "Ie_gjiQREgfF"
      },
      "source": [
        "# with model_1:\n",
        "#     trace_1 = pm.sample(2000)\n",
        "#     trace_1_sum = pm.summary(trace_1)\n",
        "\n",
        "# trace_1_sum"
      ],
      "execution_count": 7,
      "outputs": []
    },
    {
      "cell_type": "code",
      "metadata": {
        "id": "PAtKkgWu2C9Z",
        "outputId": "cbf0c5a2-50b0-46f4-f15d-f32787b3cb2f",
        "colab": {
          "base_uri": "https://localhost:8080/",
          "height": 374
        }
      },
      "source": [
        "with pm.Model() as unpooled_model:\n",
        "\n",
        "    # Independent parameters for each block\n",
        "    ba = pm.Normal('ba', 0, sigma=100, shape=n_pen)\n",
        "    bb = pm.Normal('bb', 0, sigma=100, shape=n_pen)\n",
        "    bc = pm.Normal('bc', 0, sigma=100, shape=n_pen)\n",
        "    bd = pm.Normal('bd', 0, sigma=100, shape=n_pen)\n",
        "\n",
        "\n",
        "    # Model error\n",
        "    eps = pm.HalfCauchy('eps', 5)\n",
        "\n",
        "    # Model prediction of treatments level\n",
        "    # a[county_idx] translates to a[0, 0, 0, 1, 1, ...],\n",
        "    # we thus link multiple household measures of a county to its coefficients.\n",
        "    treat_est = ba[pen_idx] + bb[pen_idx] + bc[pen_idx]*penecillin.D.values\n",
        "\n",
        "    # Data likelihood\n",
        "    y = pm.Normal('y', treat_est, sigma=eps, observed=penecillin.mean)\n",
        "\n",
        "\n",
        "\n",
        "# Fully pooled; simple logistic regression\n",
        "\n",
        "# with pm.Model() as log_model:\n",
        "#     a = pm.Normal('a', 0, 2, shape = n_pen)\n",
        "#     b = pm.Normal('b', 0, 1, shape = n_pen)\n",
        "#     sigma = pm.HalfCauchy('sigma', 5)\n",
        "#     mu = pm.math.invlogit(a + b[pen_idx] * pen_idx)\n",
        "#     score = pm.Normal('score', mu=mu, observed = \"penecillin.D, penecillin.C, penecillin.B\",)\n",
        "\n",
        "    trace_simple = pm.sample(2000, target_accept = 0.95, tune = 1000)\n",
        "    summary_simple = pm.summary(trace_simple)"
      ],
      "execution_count": 48,
      "outputs": [
        {
          "output_type": "error",
          "ename": "TypeError",
          "evalue": "ignored",
          "traceback": [
            "\u001b[0;31m---------------------------------------------------------------------------\u001b[0m",
            "\u001b[0;31mTypeError\u001b[0m                                 Traceback (most recent call last)",
            "\u001b[0;32m<ipython-input-48-e07fb011e0b8>\u001b[0m in \u001b[0;36m<module>\u001b[0;34m()\u001b[0m\n\u001b[1;32m     17\u001b[0m \u001b[0;34m\u001b[0m\u001b[0m\n\u001b[1;32m     18\u001b[0m     \u001b[0;31m# Data likelihood\u001b[0m\u001b[0;34m\u001b[0m\u001b[0;34m\u001b[0m\u001b[0;34m\u001b[0m\u001b[0m\n\u001b[0;32m---> 19\u001b[0;31m     \u001b[0my\u001b[0m \u001b[0;34m=\u001b[0m \u001b[0mpm\u001b[0m\u001b[0;34m.\u001b[0m\u001b[0mNormal\u001b[0m\u001b[0;34m(\u001b[0m\u001b[0;34m'y'\u001b[0m\u001b[0;34m,\u001b[0m \u001b[0mtreat_est\u001b[0m\u001b[0;34m,\u001b[0m \u001b[0msigma\u001b[0m\u001b[0;34m=\u001b[0m\u001b[0meps\u001b[0m\u001b[0;34m,\u001b[0m \u001b[0mobserved\u001b[0m\u001b[0;34m=\u001b[0m\u001b[0mpenecillin\u001b[0m\u001b[0;34m.\u001b[0m\u001b[0mmean\u001b[0m\u001b[0;34m)\u001b[0m\u001b[0;34m\u001b[0m\u001b[0;34m\u001b[0m\u001b[0m\n\u001b[0m\u001b[1;32m     20\u001b[0m \u001b[0;34m\u001b[0m\u001b[0m\n\u001b[1;32m     21\u001b[0m \u001b[0;34m\u001b[0m\u001b[0m\n",
            "\u001b[0;32m/usr/local/lib/python3.6/dist-packages/pymc3/distributions/distribution.py\u001b[0m in \u001b[0;36m__new__\u001b[0;34m(cls, name, *args, **kwargs)\u001b[0m\n\u001b[1;32m     81\u001b[0m         \u001b[0;32melse\u001b[0m\u001b[0;34m:\u001b[0m\u001b[0;34m\u001b[0m\u001b[0;34m\u001b[0m\u001b[0m\n\u001b[1;32m     82\u001b[0m             \u001b[0mdist\u001b[0m \u001b[0;34m=\u001b[0m \u001b[0mcls\u001b[0m\u001b[0;34m.\u001b[0m\u001b[0mdist\u001b[0m\u001b[0;34m(\u001b[0m\u001b[0;34m*\u001b[0m\u001b[0margs\u001b[0m\u001b[0;34m,\u001b[0m \u001b[0;34m**\u001b[0m\u001b[0mkwargs\u001b[0m\u001b[0;34m)\u001b[0m\u001b[0;34m\u001b[0m\u001b[0;34m\u001b[0m\u001b[0m\n\u001b[0;32m---> 83\u001b[0;31m         \u001b[0;32mreturn\u001b[0m \u001b[0mmodel\u001b[0m\u001b[0;34m.\u001b[0m\u001b[0mVar\u001b[0m\u001b[0;34m(\u001b[0m\u001b[0mname\u001b[0m\u001b[0;34m,\u001b[0m \u001b[0mdist\u001b[0m\u001b[0;34m,\u001b[0m \u001b[0mdata\u001b[0m\u001b[0;34m,\u001b[0m \u001b[0mtotal_size\u001b[0m\u001b[0;34m,\u001b[0m \u001b[0mdims\u001b[0m\u001b[0;34m=\u001b[0m\u001b[0mdims\u001b[0m\u001b[0;34m)\u001b[0m\u001b[0;34m\u001b[0m\u001b[0;34m\u001b[0m\u001b[0m\n\u001b[0m\u001b[1;32m     84\u001b[0m \u001b[0;34m\u001b[0m\u001b[0m\n\u001b[1;32m     85\u001b[0m     \u001b[0;32mdef\u001b[0m \u001b[0m__getnewargs__\u001b[0m\u001b[0;34m(\u001b[0m\u001b[0mself\u001b[0m\u001b[0;34m)\u001b[0m\u001b[0;34m:\u001b[0m\u001b[0;34m\u001b[0m\u001b[0;34m\u001b[0m\u001b[0m\n",
            "\u001b[0;32m/usr/local/lib/python3.6/dist-packages/pymc3/model.py\u001b[0m in \u001b[0;36mVar\u001b[0;34m(self, name, dist, data, total_size, dims)\u001b[0m\n\u001b[1;32m   1115\u001b[0m                     \u001b[0mdistribution\u001b[0m\u001b[0;34m=\u001b[0m\u001b[0mdist\u001b[0m\u001b[0;34m,\u001b[0m\u001b[0;34m\u001b[0m\u001b[0;34m\u001b[0m\u001b[0m\n\u001b[1;32m   1116\u001b[0m                     \u001b[0mtotal_size\u001b[0m\u001b[0;34m=\u001b[0m\u001b[0mtotal_size\u001b[0m\u001b[0;34m,\u001b[0m\u001b[0;34m\u001b[0m\u001b[0;34m\u001b[0m\u001b[0m\n\u001b[0;32m-> 1117\u001b[0;31m                     \u001b[0mmodel\u001b[0m\u001b[0;34m=\u001b[0m\u001b[0mself\u001b[0m\u001b[0;34m,\u001b[0m\u001b[0;34m\u001b[0m\u001b[0;34m\u001b[0m\u001b[0m\n\u001b[0m\u001b[1;32m   1118\u001b[0m                 )\n\u001b[1;32m   1119\u001b[0m             \u001b[0mself\u001b[0m\u001b[0;34m.\u001b[0m\u001b[0mobserved_RVs\u001b[0m\u001b[0;34m.\u001b[0m\u001b[0mappend\u001b[0m\u001b[0;34m(\u001b[0m\u001b[0mvar\u001b[0m\u001b[0;34m)\u001b[0m\u001b[0;34m\u001b[0m\u001b[0;34m\u001b[0m\u001b[0m\n",
            "\u001b[0;32m/usr/local/lib/python3.6/dist-packages/pymc3/model.py\u001b[0m in \u001b[0;36m__init__\u001b[0;34m(self, type, owner, index, name, data, distribution, total_size, model)\u001b[0m\n\u001b[1;32m   1727\u001b[0m \u001b[0;34m\u001b[0m\u001b[0m\n\u001b[1;32m   1728\u001b[0m         \u001b[0;32mif\u001b[0m \u001b[0mtype\u001b[0m \u001b[0;32mis\u001b[0m \u001b[0;32mNone\u001b[0m\u001b[0;34m:\u001b[0m\u001b[0;34m\u001b[0m\u001b[0;34m\u001b[0m\u001b[0m\n\u001b[0;32m-> 1729\u001b[0;31m             \u001b[0mdata\u001b[0m \u001b[0;34m=\u001b[0m \u001b[0mpandas_to_array\u001b[0m\u001b[0;34m(\u001b[0m\u001b[0mdata\u001b[0m\u001b[0;34m)\u001b[0m\u001b[0;34m\u001b[0m\u001b[0;34m\u001b[0m\u001b[0m\n\u001b[0m\u001b[1;32m   1730\u001b[0m             \u001b[0mtype\u001b[0m \u001b[0;34m=\u001b[0m \u001b[0mTensorType\u001b[0m\u001b[0;34m(\u001b[0m\u001b[0mdistribution\u001b[0m\u001b[0;34m.\u001b[0m\u001b[0mdtype\u001b[0m\u001b[0;34m,\u001b[0m \u001b[0mdata\u001b[0m\u001b[0;34m.\u001b[0m\u001b[0mshape\u001b[0m\u001b[0;34m)\u001b[0m\u001b[0;34m\u001b[0m\u001b[0;34m\u001b[0m\u001b[0m\n\u001b[1;32m   1731\u001b[0m \u001b[0;34m\u001b[0m\u001b[0m\n",
            "\u001b[0;32m/usr/local/lib/python3.6/dist-packages/pymc3/model.py\u001b[0m in \u001b[0;36mpandas_to_array\u001b[0;34m(data)\u001b[0m\n\u001b[1;32m   1653\u001b[0m     \u001b[0;31m# needed for uses of this function other than with pm.Data:\u001b[0m\u001b[0;34m\u001b[0m\u001b[0;34m\u001b[0m\u001b[0;34m\u001b[0m\u001b[0m\n\u001b[1;32m   1654\u001b[0m     \u001b[0;32melse\u001b[0m\u001b[0;34m:\u001b[0m\u001b[0;34m\u001b[0m\u001b[0;34m\u001b[0m\u001b[0m\n\u001b[0;32m-> 1655\u001b[0;31m         \u001b[0;32mreturn\u001b[0m \u001b[0mpm\u001b[0m\u001b[0;34m.\u001b[0m\u001b[0mfloatX\u001b[0m\u001b[0;34m(\u001b[0m\u001b[0mret\u001b[0m\u001b[0;34m)\u001b[0m\u001b[0;34m\u001b[0m\u001b[0;34m\u001b[0m\u001b[0m\n\u001b[0m\u001b[1;32m   1656\u001b[0m \u001b[0;34m\u001b[0m\u001b[0m\n\u001b[1;32m   1657\u001b[0m \u001b[0;34m\u001b[0m\u001b[0m\n",
            "\u001b[0;32m/usr/local/lib/python3.6/dist-packages/pymc3/theanof.py\u001b[0m in \u001b[0;36mfloatX\u001b[0;34m(X)\u001b[0m\n\u001b[1;32m     78\u001b[0m     \"\"\"\n\u001b[1;32m     79\u001b[0m     \u001b[0;32mtry\u001b[0m\u001b[0;34m:\u001b[0m\u001b[0;34m\u001b[0m\u001b[0;34m\u001b[0m\u001b[0m\n\u001b[0;32m---> 80\u001b[0;31m         \u001b[0;32mreturn\u001b[0m \u001b[0mX\u001b[0m\u001b[0;34m.\u001b[0m\u001b[0mastype\u001b[0m\u001b[0;34m(\u001b[0m\u001b[0mtheano\u001b[0m\u001b[0;34m.\u001b[0m\u001b[0mconfig\u001b[0m\u001b[0;34m.\u001b[0m\u001b[0mfloatX\u001b[0m\u001b[0;34m)\u001b[0m\u001b[0;34m\u001b[0m\u001b[0;34m\u001b[0m\u001b[0m\n\u001b[0m\u001b[1;32m     81\u001b[0m     \u001b[0;32mexcept\u001b[0m \u001b[0mAttributeError\u001b[0m\u001b[0;34m:\u001b[0m\u001b[0;34m\u001b[0m\u001b[0;34m\u001b[0m\u001b[0m\n\u001b[1;32m     82\u001b[0m         \u001b[0;31m# Scalar passed\u001b[0m\u001b[0;34m\u001b[0m\u001b[0;34m\u001b[0m\u001b[0;34m\u001b[0m\u001b[0m\n",
            "\u001b[0;31mTypeError\u001b[0m: float() argument must be a string or a number, not 'method'"
          ]
        }
      ]
    }
  ]
}